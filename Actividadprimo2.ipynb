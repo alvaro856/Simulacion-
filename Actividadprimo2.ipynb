{
 "cells": [
  {
   "cell_type": "code",
   "execution_count": null,
   "id": "a714b19a-d592-484d-aa2c-1d19db4dc319",
   "metadata": {},
   "outputs": [],
   "source": []
  },
  {
   "cell_type": "markdown",
   "id": "85f86e1a-069e-4b7e-923c-f32624c453cb",
   "metadata": {},
   "source": [
    "1. Pasar a funcion el codigo de encontrar un numero primo que retorne True si si es primo y False si no es "
   ]
  },
  {
   "cell_type": "code",
   "execution_count": 115,
   "id": "f7e99c16-0631-4f90-bc3a-bd7140038c10",
   "metadata": {},
   "outputs": [
    {
     "ename": "IndentationError",
     "evalue": "unindent does not match any outer indentation level (<string>, line 3)",
     "output_type": "error",
     "traceback": [
      "\u001b[1;36m  File \u001b[1;32m<string>:3\u001b[1;36m\u001b[0m\n\u001b[1;33m    return False\u001b[0m\n\u001b[1;37m                ^\u001b[0m\n\u001b[1;31mIndentationError\u001b[0m\u001b[1;31m:\u001b[0m unindent does not match any outer indentation level\n"
     ]
    }
   ],
   "source": [
    "def es_primo(a):\n",
    "     if a <= 1:\n",
    "    return False\n",
    "    if a==2 : \n",
    "        return True\n",
    "    if a 2%==0 :\n",
    "        return False\n",
    "for i in range(3, int(a**0.5) + 1, 2):\n",
    "        if a % i == 0:\n",
    "            return False\n",
    "return True\n"
   ]
  },
  {
   "cell_type": "code",
   "execution_count": 119,
   "id": "1e6ef0dc-1add-480a-949c-bfe70039e1eb",
   "metadata": {},
   "outputs": [],
   "source": [
    "def es_primo(a):\n",
    "    if a <= 1:\n",
    "        return False\n",
    "    if a == 2:\n",
    "        return True\n",
    "    if a % 2 == 0:\n",
    "        return False\n",
    "    for i in range(3, int(a**0.5) + 1, 2):\n",
    "        if a % i == 0:\n",
    "            return False\n",
    "    return True"
   ]
  },
  {
   "cell_type": "code",
   "execution_count": 121,
   "id": "e2abf46d-ad9a-4da1-9c13-edba900682b0",
   "metadata": {},
   "outputs": [
    {
     "data": {
      "text/plain": [
       "True"
      ]
     },
     "execution_count": 121,
     "metadata": {},
     "output_type": "execute_result"
    }
   ],
   "source": [
    "es_primo(43)"
   ]
  },
  {
   "cell_type": "code",
   "execution_count": null,
   "id": "bd6e7c3e-3b2b-44f7-b84f-e9bd7034bbb4",
   "metadata": {},
   "outputs": [],
   "source": []
  },
  {
   "cell_type": "markdown",
   "id": "fab44899-8821-4613-9e7e-39ccc863f49f",
   "metadata": {},
   "source": [
    "2. Crea una funcion que ingrese un numero a y que encuentre el numero primo mas cercano. Usando la funcion creada en el punto 1"
   ]
  },
  {
   "cell_type": "code",
   "execution_count": null,
   "id": "d9722b86-51e5-46ae-832e-fa7681c8de1e",
   "metadata": {},
   "outputs": [],
   "source": [
    "def es_primo2(a):\n",
    "    if a <= 1:\n",
    "        return False\n",
    "    if a == 2:\n",
    "        return True\n",
    "    if a % 2 == 0:\n",
    "        return False\n",
    "    for i in range(3, int(a**0.5) + 1, 2):\n",
    "        if a % i == 0:\n",
    "            return False\n",
    "    return True\n",
    "    while False \n",
    "    "
   ]
  },
  {
   "cell_type": "code",
   "execution_count": null,
   "id": "9acfe6c4-43d8-429c-808f-9dd9832eb3e2",
   "metadata": {},
   "outputs": [],
   "source": []
  },
  {
   "cell_type": "code",
   "execution_count": null,
   "id": "52968c64-830b-41d9-963f-2bbce357d994",
   "metadata": {},
   "outputs": [],
   "source": []
  },
  {
   "cell_type": "code",
   "execution_count": null,
   "id": "fc9c294a-f23f-4732-bd14-eeb2ca11c063",
   "metadata": {},
   "outputs": [],
   "source": []
  },
  {
   "cell_type": "code",
   "execution_count": null,
   "id": "ef1b4785-cac6-442d-9e17-c1609a938df6",
   "metadata": {},
   "outputs": [],
   "source": []
  },
  {
   "cell_type": "code",
   "execution_count": null,
   "id": "b45668d9-65c7-4d90-9ae4-1ba6d2e4a6b3",
   "metadata": {},
   "outputs": [],
   "source": []
  },
  {
   "cell_type": "code",
   "execution_count": null,
   "id": "025d2c9b-3188-4bff-a094-33ba4637dbd9",
   "metadata": {},
   "outputs": [],
   "source": []
  },
  {
   "cell_type": "markdown",
   "id": "3a65547d-acbf-42cf-b2e1-3b636dd966f1",
   "metadata": {},
   "source": [
    "3. Crear una función que retorne el factorial de un número dado. Después usar un ciclo e imprimir los factoriales de los siguientes números:\n",
    "4,7,5,8,9,3"
   ]
  },
  {
   "cell_type": "code",
   "execution_count": 190,
   "id": "08e3091d-e569-47e1-a18a-906bfb00f249",
   "metadata": {},
   "outputs": [],
   "source": [
    "def calcular_factorial():\n",
    "    resultado = 1\n",
    "    for i in range(1, numero + 1):\n",
    "        resultado *= i\n",
    "    return resultado"
   ]
  },
  {
   "cell_type": "code",
   "execution_count": 210,
   "id": "d0d974e4-60fd-4767-bc3a-147dcb7cf959",
   "metadata": {
    "scrolled": true
   },
   "outputs": [
    {
     "data": {
      "text/plain": [
       "24"
      ]
     },
     "execution_count": 210,
     "metadata": {},
     "output_type": "execute_result"
    }
   ],
   "source": [
    "calcular_factorial( 4)"
   ]
  },
  {
   "cell_type": "code",
   "execution_count": 212,
   "id": "3b82d68e-9eae-4b81-bae5-a54f37b9eda6",
   "metadata": {},
   "outputs": [
    {
     "data": {
      "text/plain": [
       "5040"
      ]
     },
     "execution_count": 212,
     "metadata": {},
     "output_type": "execute_result"
    }
   ],
   "source": [
    "calcular_factorial( 7)"
   ]
  },
  {
   "cell_type": "code",
   "execution_count": 214,
   "id": "631bae0b-943d-4b62-8ada-6ea77b009e3d",
   "metadata": {},
   "outputs": [
    {
     "data": {
      "text/plain": [
       "120"
      ]
     },
     "execution_count": 214,
     "metadata": {},
     "output_type": "execute_result"
    }
   ],
   "source": [
    "calcular_factorial( 5)"
   ]
  },
  {
   "cell_type": "code",
   "execution_count": 216,
   "id": "07cfb990-7799-49a5-945c-20182bf7ab50",
   "metadata": {},
   "outputs": [
    {
     "data": {
      "text/plain": [
       "40320"
      ]
     },
     "execution_count": 216,
     "metadata": {},
     "output_type": "execute_result"
    }
   ],
   "source": [
    "calcular_factorial( 8)"
   ]
  },
  {
   "cell_type": "code",
   "execution_count": 218,
   "id": "c9856807-4e70-4045-a540-89dfdcab2862",
   "metadata": {},
   "outputs": [
    {
     "data": {
      "text/plain": [
       "362880"
      ]
     },
     "execution_count": 218,
     "metadata": {},
     "output_type": "execute_result"
    }
   ],
   "source": [
    "calcular_factorial( 9)"
   ]
  },
  {
   "cell_type": "code",
   "execution_count": 220,
   "id": "ca784ea5-5011-4878-834a-ab3a05883f0a",
   "metadata": {},
   "outputs": [
    {
     "data": {
      "text/plain": [
       "6"
      ]
     },
     "execution_count": 220,
     "metadata": {},
     "output_type": "execute_result"
    }
   ],
   "source": [
    "calcular_factorial( 3)"
   ]
  },
  {
   "cell_type": "code",
   "execution_count": null,
   "id": "05974d31-b774-4a29-8c19-4a04d40d4bf9",
   "metadata": {},
   "outputs": [],
   "source": []
  }
 ],
 "metadata": {
  "kernelspec": {
   "display_name": "Python 3 (ipykernel)",
   "language": "python",
   "name": "python3"
  },
  "language_info": {
   "codemirror_mode": {
    "name": "ipython",
    "version": 3
   },
   "file_extension": ".py",
   "mimetype": "text/x-python",
   "name": "python",
   "nbconvert_exporter": "python",
   "pygments_lexer": "ipython3",
   "version": "3.12.4"
  }
 },
 "nbformat": 4,
 "nbformat_minor": 5
}
