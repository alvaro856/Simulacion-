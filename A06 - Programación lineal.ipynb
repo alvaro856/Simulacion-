{
 "cells": [
  {
   "cell_type": "markdown",
   "id": "9c08adfb-a107-4549-9ee2-e8e57743708b",
   "metadata": {},
   "source": [
    "Alvaro Ramirez Zenteno 11/09/24"
   ]
  },
  {
   "cell_type": "markdown",
   "id": "4f67e44a-b2f0-4d77-9119-31e6938a838f",
   "metadata": {},
   "source": [
    "1. Maximizar ganancia"
   ]
  },
  {
   "cell_type": "markdown",
   "id": "c7216658-cc64-4565-a515-3ae93a6aeb20",
   "metadata": {},
   "source": [
    "2. Variables de control\n",
    "$$x_1h=3 x_m1=6\n",
    "x_2h=1 x_m2=2\n",
    "x_3h=4 x_m3=5\n",
    "x_4h=3 x_m4=5$$"
   ]
  },
  {
   "cell_type": "markdown",
   "id": "d0ecc622-56de-4d56-bdf7-165e2681a584",
   "metadata": {},
   "source": [
    "3. Funcion costo"
   ]
  },
  {
   "cell_type": "markdown",
   "id": "ff9372fa-e37d-434f-9e72-4adbe2514f23",
   "metadata": {},
   "source": [
    "4. Restricciones"
   ]
  },
  {
   "cell_type": "markdown",
   "id": "73e72596-c861-4607-a0f4-5b4cadfa7a12",
   "metadata": {},
   "source": [
    "$$costo total= x_1h+x_2h+x_3h+x_4h\\leq40 ,  x_m1+x_m2+x_m3+x_m4\\leq100$$"
   ]
  },
  {
   "cell_type": "markdown",
   "id": "ac7d6fc3-afaa-4014-8dd6-7e1ca0feb93c",
   "metadata": {},
   "source": [
    "$$Horas_Carpintero= 3x_1h+1x_2h+4x_3h+3x_4h\\leq40$$\n",
    "$$Horas_Apreniz= 4.5x_1h+1.5x_2h+6x_3h+4.5x_4h\\leq40$$"
   ]
  },
  {
   "cell_type": "markdown",
   "id": "cf262e1e-6656-4543-ab27-4c0d4ecd9892",
   "metadata": {},
   "source": [
    "\\$$Material_carpintero=6x_m1+2x_m2+5x_m3+5x_m4\\leq100$$\n",
    "$$Material_Apreniz=7.2x_m1+2.4x_m2+6x_m3+6x_m4\\leq100$$"
   ]
  },
  {
   "cell_type": "code",
   "execution_count": 45,
   "id": "24f201eb-bc7e-46c7-9ec2-8c16d4fdeda6",
   "metadata": {},
   "outputs": [
    {
     "name": "stdout",
     "output_type": "stream",
     "text": [
      "Mesas: 8.88888888888889\n",
      "Sillas: 0.0\n",
      "Libreros: 0.0\n",
      "Bases de cama: 0.0\n",
      "Ganancia total: 80000.0 pesos\n"
     ]
    },
    {
     "name": "stderr",
     "output_type": "stream",
     "text": [
      "C:\\Users\\alvar\\AppData\\Local\\Temp\\ipykernel_33480\\2893107771.py:15: DeprecationWarning: `method='simplex'` is deprecated and will be removed in SciPy 1.11.0. Please use one of the HiGHS solvers (e.g. `method='highs'`) in new code.\n",
      "  resultado = linprog(c=ganancias, A_ub=restricciones, b_ub=limites, bounds=limites_productos, method=\"simplex\")\n"
     ]
    }
   ],
   "source": [
    "from scipy.optimize import linprog\n",
    "\n",
    "ganancias = [-9000, -3000, -10000, -9000]\n",
    "\n",
    "restricciones = [\n",
    "    [3, 1, 4, 3],\n",
    "    [1.5 * 3, 1.5 * 1, 1.5 * 4, 1.5 * 3],\n",
    "    [6, 2, 5, 5]\n",
    "]\n",
    "\n",
    "limites = [40, 40, 100]\n",
    "\n",
    "limites_productos = [(0, 100), (0, 100), (0, 100), (0, 100)]\n",
    "\n",
    "resultado = linprog(c=ganancias, A_ub=restricciones, b_ub=limites, bounds=limites_productos, method=\"simplex\")\n",
    "\n",
    "print(\"Mesas:\", resultado.x[0])\n",
    "print(\"Sillas:\", resultado.x[1])\n",
    "print(\"Libreros:\", resultado.x[2])\n",
    "print(\"Bases de cama:\", resultado.x[3])\n",
    "print(\"Ganancia total:\", resultado.x[0] * 9000 + resultado.x[1] * 3000 + resultado.x[2] * 10000 + resultado.x[3] * 9000, \"pesos\")"
   ]
  }
 ],
 "metadata": {
  "kernelspec": {
   "display_name": "Python 3 (ipykernel)",
   "language": "python",
   "name": "python3"
  },
  "language_info": {
   "codemirror_mode": {
    "name": "ipython",
    "version": 3
   },
   "file_extension": ".py",
   "mimetype": "text/x-python",
   "name": "python",
   "nbconvert_exporter": "python",
   "pygments_lexer": "ipython3",
   "version": "3.12.4"
  }
 },
 "nbformat": 4,
 "nbformat_minor": 5
}
