{
 "cells": [
  {
   "cell_type": "markdown",
   "id": "c0be9a1d-909c-4755-a748-7b4b2b6ead4b",
   "metadata": {},
   "source": [
    "Alvaro Ramirez Zenteno 26/08/2024 "
   ]
  },
  {
   "cell_type": "code",
   "execution_count": null,
   "id": "91667db3-3f30-4cec-bdda-067a188eb072",
   "metadata": {},
   "outputs": [],
   "source": []
  },
  {
   "cell_type": "code",
   "execution_count": null,
   "id": "b8903aad-1c2e-4c3d-a790-d29c64765225",
   "metadata": {},
   "outputs": [],
   "source": []
  },
  {
   "cell_type": "code",
   "execution_count": 13,
   "id": "bc7a117d-6d4f-4e7d-a0e4-b2c39b61abad",
   "metadata": {},
   "outputs": [
    {
     "data": {
      "text/html": [
       "<div>\n",
       "<style scoped>\n",
       "    .dataframe tbody tr th:only-of-type {\n",
       "        vertical-align: middle;\n",
       "    }\n",
       "\n",
       "    .dataframe tbody tr th {\n",
       "        vertical-align: top;\n",
       "    }\n",
       "\n",
       "    .dataframe thead th {\n",
       "        text-align: right;\n",
       "    }\n",
       "</style>\n",
       "<table border=\"1\" class=\"dataframe\">\n",
       "  <thead>\n",
       "    <tr style=\"text-align: right;\">\n",
       "      <th></th>\n",
       "      <th>Unnamed: 0</th>\n",
       "      <th>Ingreso</th>\n",
       "      <th>Gasto</th>\n",
       "    </tr>\n",
       "  </thead>\n",
       "  <tbody>\n",
       "    <tr>\n",
       "      <th>0</th>\n",
       "      <td>Enero</td>\n",
       "      <td>1340</td>\n",
       "      <td>1880</td>\n",
       "    </tr>\n",
       "    <tr>\n",
       "      <th>1</th>\n",
       "      <td>Febrero</td>\n",
       "      <td>2590</td>\n",
       "      <td>3130</td>\n",
       "    </tr>\n",
       "    <tr>\n",
       "      <th>2</th>\n",
       "      <td>Marzo</td>\n",
       "      <td>3570</td>\n",
       "      <td>2140</td>\n",
       "    </tr>\n",
       "    <tr>\n",
       "      <th>3</th>\n",
       "      <td>Abril</td>\n",
       "      <td>4450</td>\n",
       "      <td>3370</td>\n",
       "    </tr>\n",
       "    <tr>\n",
       "      <th>4</th>\n",
       "      <td>Mayo</td>\n",
       "      <td>1330</td>\n",
       "      <td>2990</td>\n",
       "    </tr>\n",
       "    <tr>\n",
       "      <th>5</th>\n",
       "      <td>Junio</td>\n",
       "      <td>1610</td>\n",
       "      <td>1970</td>\n",
       "    </tr>\n",
       "    <tr>\n",
       "      <th>6</th>\n",
       "      <td>Julio</td>\n",
       "      <td>1500</td>\n",
       "      <td>2230</td>\n",
       "    </tr>\n",
       "    <tr>\n",
       "      <th>7</th>\n",
       "      <td>Agosto</td>\n",
       "      <td>2270</td>\n",
       "      <td>1240</td>\n",
       "    </tr>\n",
       "    <tr>\n",
       "      <th>8</th>\n",
       "      <td>Septiembre</td>\n",
       "      <td>1910</td>\n",
       "      <td>1470</td>\n",
       "    </tr>\n",
       "    <tr>\n",
       "      <th>9</th>\n",
       "      <td>Octubre</td>\n",
       "      <td>2120</td>\n",
       "      <td>2280</td>\n",
       "    </tr>\n",
       "    <tr>\n",
       "      <th>10</th>\n",
       "      <td>Noviembre</td>\n",
       "      <td>3950</td>\n",
       "      <td>1870</td>\n",
       "    </tr>\n",
       "    <tr>\n",
       "      <th>11</th>\n",
       "      <td>Diciembre</td>\n",
       "      <td>1380</td>\n",
       "      <td>3140</td>\n",
       "    </tr>\n",
       "  </tbody>\n",
       "</table>\n",
       "</div>"
      ],
      "text/plain": [
       "    Unnamed: 0  Ingreso  Gasto\n",
       "0        Enero     1340   1880\n",
       "1      Febrero     2590   3130\n",
       "2        Marzo     3570   2140\n",
       "3        Abril     4450   3370\n",
       "4         Mayo     1330   2990\n",
       "5        Junio     1610   1970\n",
       "6        Julio     1500   2230\n",
       "7       Agosto     2270   1240\n",
       "8   Septiembre     1910   1470\n",
       "9      Octubre     2120   2280\n",
       "10   Noviembre     3950   1870\n",
       "11   Diciembre     1380   3140"
      ]
     },
     "execution_count": 13,
     "metadata": {},
     "output_type": "execute_result"
    }
   ],
   "source": [
    "import pandas as pd\n",
    "datos=pd.read_excel(\"datosCT.xlsx\")\n",
    "datos"
   ]
  },
  {
   "cell_type": "code",
   "execution_count": 43,
   "id": "938b54f3-b00f-4970-a33a-f76b086d2699",
   "metadata": {},
   "outputs": [
    {
     "data": {
      "text/plain": [
       "0     -540\n",
       "1     -540\n",
       "2     1430\n",
       "3     1080\n",
       "4    -1660\n",
       "5     -360\n",
       "6     -730\n",
       "7     1030\n",
       "8      440\n",
       "9     -160\n",
       "10    2080\n",
       "11   -1760\n",
       "Name: Utilidad, dtype: int64"
      ]
     },
     "execution_count": 43,
     "metadata": {},
     "output_type": "execute_result"
    }
   ],
   "source": [
    "datos[\"Utilidad\"]=datos[\"Ingreso\"]-datos[\"Gasto\"]\n",
    "datos[\"Utilidad\"]"
   ]
  },
  {
   "cell_type": "code",
   "execution_count": 61,
   "id": "259bf685-1c8c-4093-8107-737540d389d1",
   "metadata": {},
   "outputs": [
    {
     "data": {
      "text/plain": [
       "0     1880.0\n",
       "1     3130.0\n",
       "2        NaN\n",
       "3        NaN\n",
       "4     2990.0\n",
       "5     1970.0\n",
       "6     2230.0\n",
       "7        NaN\n",
       "8        NaN\n",
       "9     2280.0\n",
       "10       NaN\n",
       "11    3140.0\n",
       "Name: Utilidadnegativo, dtype: float64"
      ]
     },
     "execution_count": 61,
     "metadata": {},
     "output_type": "execute_result"
    }
   ],
   "source": [
    "datos[\"Utilidadnegativo\"] = datos[datos['Utilidad'] < 0]['Gasto']\n",
    "datos[\"Utilidadnegativo\"]"
   ]
  },
  {
   "cell_type": "code",
   "execution_count": 69,
   "id": "baff1390-6643-40d6-a943-c3cb4fc74d32",
   "metadata": {},
   "outputs": [
    {
     "data": {
      "text/plain": [
       "0     1340\n",
       "1     2590\n",
       "2     3570\n",
       "3     4450\n",
       "4     1330\n",
       "5     1610\n",
       "6     1500\n",
       "7     2270\n",
       "8     1910\n",
       "9     2120\n",
       "10    3950\n",
       "11    1380\n",
       "Name: IngresosTotales, dtype: int64"
      ]
     },
     "execution_count": 69,
     "metadata": {},
     "output_type": "execute_result"
    }
   ],
   "source": [
    "datos[\"IngresosTotales\"]=datos[\"Ingreso\"]\n",
    "datos[\"IngresosTotales\"]"
   ]
  },
  {
   "cell_type": "code",
   "execution_count": 73,
   "id": "8f09f358-108a-48a8-b5f8-d4ef95300fe8",
   "metadata": {},
   "outputs": [],
   "source": [
    "import numpy as np\n",
    "\n",
    "\n",
    "a = np.array([\n",
    "    [1,2],\n",
    "    [4,3]])\n",
    "b= np.array([[1],\n",
    "             [2]])"
   ]
  },
  {
   "cell_type": "code",
   "execution_count": 75,
   "id": "9e34061c-0961-4897-ad6b-278bcb3f8b7e",
   "metadata": {},
   "outputs": [
    {
     "data": {
      "text/plain": [
       "array([[ 5],\n",
       "       [10]])"
      ]
     },
     "execution_count": 75,
     "metadata": {},
     "output_type": "execute_result"
    }
   ],
   "source": [
    "a @ b"
   ]
  },
  {
   "cell_type": "code",
   "execution_count": null,
   "id": "a1e11039-766b-4772-b94e-10138c6663ec",
   "metadata": {},
   "outputs": [],
   "source": []
  }
 ],
 "metadata": {
  "kernelspec": {
   "display_name": "Python 3 (ipykernel)",
   "language": "python",
   "name": "python3"
  },
  "language_info": {
   "codemirror_mode": {
    "name": "ipython",
    "version": 3
   },
   "file_extension": ".py",
   "mimetype": "text/x-python",
   "name": "python",
   "nbconvert_exporter": "python",
   "pygments_lexer": "ipython3",
   "version": "3.12.4"
  }
 },
 "nbformat": 4,
 "nbformat_minor": 5
}
