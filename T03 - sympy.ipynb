{
 "cells": [
  {
   "cell_type": "markdown",
   "id": "985e4824-1b58-4982-bd3f-4a57c04e5d27",
   "metadata": {},
   "source": [
    "Alvaro Ramirez Zenteno 05/09/2024 "
   ]
  },
  {
   "cell_type": "markdown",
   "id": "7bc3df4a-fb19-4b58-b9b7-130f23ac96c5",
   "metadata": {},
   "source": [
    "Simulacion matematica "
   ]
  },
  {
   "cell_type": "code",
   "execution_count": null,
   "id": "26b3b35b-9bf9-42b2-b0c0-28d5b27ef1bf",
   "metadata": {},
   "outputs": [],
   "source": []
  },
  {
   "cell_type": "code",
   "execution_count": null,
   "id": "232105d9-a39a-4505-90b9-9f5e2ac60aa8",
   "metadata": {},
   "outputs": [],
   "source": [
    "Resistencia de la viga "
   ]
  },
  {
   "cell_type": "code",
   "execution_count": 22,
   "id": "995fe50b-6d95-4909-828b-8f9bfc83a1c8",
   "metadata": {},
   "outputs": [
    {
     "name": "stdout",
     "output_type": "stream",
     "text": [
      "0\n",
      "-24\n"
     ]
    }
   ],
   "source": [
    "import sympy as sp\n",
    "\n",
    "w, h = sp.var('w h')\n",
    "\n",
    "diameter = 24\n",
    "\n",
    "restriction = w**2 + h**2 - diameter**2\n",
    "\n",
    "k = sp.var('k')\n",
    "S = k * w * h**2\n",
    "\n",
    "w_expr = sp.solve(restriction, w)[0]\n",
    "\n",
    "S_in_terms_of_h = S.subs(w, w_expr)\n",
    "\n",
    "S_derivative = sp.diff(S_in_terms_of_h, h)\n",
    "\n",
    "h_optimal = sp.solve(S_derivative, h)[0]\n",
    "\n",
    "w_optimal = w_expr.subs(h, h_optimal)\n",
    "\n",
    "print(h_optimal)\n",
    "print(w_optimal)"
   ]
  },
  {
   "cell_type": "code",
   "execution_count": null,
   "id": "0035ab81-5351-4e08-99de-d8817ff0dfc5",
   "metadata": {},
   "outputs": [],
   "source": []
  },
  {
   "cell_type": "markdown",
   "id": "9fae246e-2262-447d-bf1f-f31b4ace95ed",
   "metadata": {},
   "source": [
    "Ejercicio de triangulo"
   ]
  },
  {
   "cell_type": "code",
   "execution_count": null,
   "id": "1eb4138e-1021-4a60-9567-da66b83991f1",
   "metadata": {},
   "outputs": [],
   "source": []
  },
  {
   "cell_type": "code",
   "execution_count": 15,
   "id": "d7e4404f-6922-409a-9d08-6358d3d31514",
   "metadata": {},
   "outputs": [
    {
     "name": "stdout",
     "output_type": "stream",
     "text": [
      "6.00000000000000\n",
      "8.00000000000000\n",
      "95.405567039991*pi\n"
     ]
    }
   ],
   "source": [
    "import sympy as sp\n",
    "\n",
    "a, b, c = sp.symbols('a b c')\n",
    "\n",
    "P = 20\n",
    "\n",
    "b = 20 - 2*a\n",
    "\n",
    "h = sp.sqrt(a**2 - (b/2)**2)\n",
    "\n",
    "r = b\n",
    "H = h\n",
    "\n",
    "V = (1/3) * sp.pi * r**2 * H\n",
    "\n",
    "Vderivada = sp.diff(V, a)\n",
    "aoptimo = sp.solve(V_derivada, a)\n",
    "\n",
    "boptimo = 20 - 2 * aoptimo[0]\n",
    "\n",
    "hoptimo = sp.sqrt(aoptimo[0]**2 - (boptimo/2)**2)\n",
    "Vmaximo = (1/3) * sp.pi * boptimo**2 * hoptimo\n",
    "\n",
    "print(aoptimo[0])\n",
    "print(boptimo)\n",
    "print(Vmaximo)"
   ]
  },
  {
   "cell_type": "code",
   "execution_count": null,
   "id": "030cfe1a-eaa9-40e9-9167-74e662eddcc2",
   "metadata": {},
   "outputs": [],
   "source": [
    "Problema de la porteria "
   ]
  },
  {
   "cell_type": "code",
   "execution_count": 20,
   "id": "1007b3c7-8e0a-4875-9801-aa2429d07ef0",
   "metadata": {},
   "outputs": [
    {
     "name": "stdout",
     "output_type": "stream",
     "text": [
      "3/2\n",
      "3\n",
      "9/2\n"
     ]
    }
   ],
   "source": [
    "import sympy as sp\n",
    "\n",
    "x, y = sp.symbols('x y')\n",
    "\n",
    "restriccion = 2*x + y - 6\n",
    "\n",
    "A = x * y\n",
    "\n",
    "yexpr = sp.solve(restriccion, y)[0]\n",
    "\n",
    "Aenfunciondex = A.subs(y, yexpr)\n",
    "\n",
    "Aderivada = sp.diff(Aenfunciondex, x)\n",
    "\n",
    "xoptimo = sp.solve(Aderivada, x)[0]\n",
    "\n",
    "yoptimo = yexpr.subs(x, xoptimo)\n",
    "\n",
    "Amaximo = Aenfunciondex.subs(x, xoptimo)\n",
    "\n",
    "print(xoptimo)\n",
    "print(yoptimo)\n",
    "print(Amaximo)"
   ]
  },
  {
   "cell_type": "code",
   "execution_count": null,
   "id": "ce3a4090-ce0b-44a0-bb4d-189887a4a486",
   "metadata": {},
   "outputs": [],
   "source": [
    "Iluminacion"
   ]
  },
  {
   "cell_type": "code",
   "execution_count": 32,
   "id": "0c9edbdb-2854-42d6-adda-a255d9d0a725",
   "metadata": {},
   "outputs": [
    {
     "name": "stdout",
     "output_type": "stream",
     "text": [
      "No se encontraron soluciones válidas.\n"
     ]
    }
   ],
   "source": [
    "import sympy as sp\n",
    "\n",
    "h, a = sp.var('h a')\n",
    "\n",
    "r = 2\n",
    "\n",
    "s = sp.sqrt(r**2 + h**2)\n",
    "\n",
    "tana = r / h\n",
    "aexpr = sp.atan(tana)\n",
    "\n",
    "I = sp.sin(aexpr) / s**2\n",
    "\n",
    "Iderivative = sp.diff(I, h)\n",
    "hoptimal = sp.solve(Iderivative, h)[0]\n",
    "\n",
    "Ioptimal = I.subs(h, hoptimal)\n",
    "\n",
    "print(hoptimal)\n",
    "print(Ioptimal)\n"
   ]
  },
  {
   "cell_type": "code",
   "execution_count": null,
   "id": "1684a1a2-038f-45f5-afb1-d8b1ff3a5146",
   "metadata": {},
   "outputs": [],
   "source": []
  }
 ],
 "metadata": {
  "kernelspec": {
   "display_name": "Python 3 (ipykernel)",
   "language": "python",
   "name": "python3"
  },
  "language_info": {
   "codemirror_mode": {
    "name": "ipython",
    "version": 3
   },
   "file_extension": ".py",
   "mimetype": "text/x-python",
   "name": "python",
   "nbconvert_exporter": "python",
   "pygments_lexer": "ipython3",
   "version": "3.12.4"
  }
 },
 "nbformat": 4,
 "nbformat_minor": 5
}
